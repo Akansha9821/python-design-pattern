{
 "cells": [
  {
   "cell_type": "markdown",
   "id": "e77d9117",
   "metadata": {},
   "source": [
    "### First create models \n",
    "#### It consists of pure application logic, which interacts with the database. It includes all the information to represent data to the end user."
   ]
  },
  {
   "cell_type": "code",
   "execution_count": 22,
   "id": "28efa6ef",
   "metadata": {},
   "outputs": [],
   "source": [
    "import mysql.connector\n",
    "\n",
    "class Get_Person_Details(object):\n",
    "    \"\"\"\n",
    "    This Class basically intrect with database and fetch all the person details from db\n",
    "    \"\"\"\n",
    "    def __init__(self, name=None, email=None, phone=None, age = None):\n",
    "        self.name = name\n",
    "        self.email = email\n",
    "        self.phone = phone\n",
    "        self.age = age\n",
    "        \n",
    "    def details(self):\n",
    "        return('%s %s %s %s'%(self.name, self.email, self.phone, self.age))\n",
    "    \n",
    "    @classmethod\n",
    "    def get_db_details(self):\n",
    "        #establishing the connection\n",
    "        conn = mysql.connector.connect(user='root', password='', host='localhost', database='python_mvc', port = '3306')\n",
    "        #Creating a cursor object using the cursor() method\n",
    "        cursor = conn.cursor()\n",
    "        if cursor:\n",
    "            print('connection stablished')\n",
    "        else:\n",
    "            print('connection failed')\n",
    "\n",
    "        #Executing an MYSQL function\n",
    "        query = \"\"\"\n",
    "                INSERT INTO person(name, email, phone, age) VALUES (%s, %s, %s, %s);\n",
    "        \"\"\"\n",
    "        cursor.execute(\"SELECT * FROM person ;\")\n",
    "\n",
    "        # Fetch a single row using fetchone() method.\n",
    "        data = cursor.fetchone()\n",
    "        print(data)\n",
    "\n",
    "        #Closing the connection\n",
    "        conn.close()\n",
    "        return data\n",
    "\n",
    "        \n",
    "        "
   ]
  },
  {
   "cell_type": "code",
   "execution_count": 23,
   "id": "0dbb1f92",
   "metadata": {},
   "outputs": [],
   "source": [
    "d = Get_Person_Details()"
   ]
  },
  {
   "cell_type": "code",
   "execution_count": 24,
   "id": "a2cc40ce",
   "metadata": {},
   "outputs": [
    {
     "name": "stdout",
     "output_type": "stream",
     "text": [
      "connection stablished\n",
      "('Akansha', 'akansha.rana@neomedia.com', '9821916413', 23)\n"
     ]
    }
   ],
   "source": [
    "t= d.get_db_details()"
   ]
  },
  {
   "cell_type": "code",
   "execution_count": null,
   "id": "60464ca0",
   "metadata": {},
   "outputs": [],
   "source": []
  }
 ],
 "metadata": {
  "kernelspec": {
   "display_name": "Python 3 (ipykernel)",
   "language": "python",
   "name": "python3"
  },
  "language_info": {
   "codemirror_mode": {
    "name": "ipython",
    "version": 3
   },
   "file_extension": ".py",
   "mimetype": "text/x-python",
   "name": "python",
   "nbconvert_exporter": "python",
   "pygments_lexer": "ipython3",
   "version": "3.7.0"
  }
 },
 "nbformat": 4,
 "nbformat_minor": 5
}
