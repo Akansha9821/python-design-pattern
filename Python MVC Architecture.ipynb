{
 "cells": [
  {
   "cell_type": "markdown",
   "id": "ad4a1c6a",
   "metadata": {},
   "source": [
    "### First create models \n",
    "#### It consists of pure application logic, which interacts with the database. It includes all the information to represent data to the end user."
   ]
  },
  {
   "cell_type": "code",
   "execution_count": 13,
   "id": "51718dd9",
   "metadata": {},
   "outputs": [],
   "source": [
    "import mysql.connector\n",
    "\n",
    "class Get_Person_Details(object):\n",
    "    \"\"\"\n",
    "    This Class basically intrect with database and fetch all the person details from db\n",
    "    \"\"\"\n",
    "    def __init__(self, name=None, email=None, phone=None, age = None):\n",
    "        self.name = name\n",
    "        self.email = email\n",
    "        self.phone = phone\n",
    "        self.age = age\n",
    "        \n",
    "    def details(self):\n",
    "        return('%s %s %s %s'%(self.name, self.email, self.phone, self.age))\n",
    "    \n",
    "    @classmethod\n",
    "    def get_db_details(self):\n",
    "        #establishing the connection\n",
    "        conn = mysql.connector.connect(user='root', password='', host='localhost', database='python_mvc', port = '3306')\n",
    "        #Creating a cursor object using the cursor() method\n",
    "        cursor = conn.cursor()\n",
    "        if cursor:\n",
    "            print('connection stablished')\n",
    "        else:\n",
    "            print('connection failed')\n",
    "            \n",
    "        person = Get_Person_Details(name='Akansha', email='akansha.rana@neomedia.com', phone=9821916413, age=23)\n",
    "        query = \"\"\"\n",
    "                SELECT * FROM person WHERE name = %s AND email = %s AND phone = %s AND age = %s;\n",
    "        \"\"\"\n",
    "        cursor.execute(query, [person.name, person.email, person.phone, person.age])\n",
    "        data = cursor.fetchone()\n",
    "        if data:\n",
    "            print('Featched Data Sucessfully....')\n",
    "        else:\n",
    "            print('Data Featching Failed......')\n",
    "\n",
    "        #Closing the connection\n",
    "        conn.close()\n",
    "        return data\n",
    "\n",
    "        \n",
    "        "
   ]
  },
  {
   "cell_type": "markdown",
   "id": "20932c89",
   "metadata": {},
   "source": [
    "### Second create Views\n",
    "#### It displays all the records fetched within the model. View never interacts with model; controller does this work (communicating with model and view)."
   ]
  },
  {
   "cell_type": "code",
   "execution_count": 23,
   "id": "fa6aa8e5",
   "metadata": {},
   "outputs": [],
   "source": [
    "def view_person(list):\n",
    "    \"\"\"\n",
    "    This view is used for showing all the persion details that we are getting inside models\n",
    "    \"\"\"\n",
    "    print('*****************************************', len(list))\n",
    "    \n",
    "    for item in list:\n",
    "        print(item)\n",
    "        \n",
    "def startView():\n",
    "    print('MVC - the simplest example')\n",
    "    print('Do you want to see everyone in my db?[y/n]')\n",
    "    \n",
    "def endView():\n",
    "    print('Goodbye!')\n",
    "        "
   ]
  },
  {
   "cell_type": "markdown",
   "id": "78802a91",
   "metadata": {},
   "source": [
    "### Now Final We are creating Controller\n",
    "#### Controller interacts with model through the getAll() method which fetches all the records displayed to the end user."
   ]
  },
  {
   "cell_type": "code",
   "execution_count": 24,
   "id": "e65c4c88",
   "metadata": {},
   "outputs": [
    {
     "name": "stdout",
     "output_type": "stream",
     "text": [
      "MVC - the simplest example\n",
      "Do you want to see everyone in my db?[y/n]\n",
      "Enter Stringy\n",
      "connection stablished\n",
      "Featched Data Sucessfully....\n",
      "***************************************** 4\n",
      "Akansha\n",
      "akansha.rana@neomedia.com\n",
      "9821916413\n",
      "23\n"
     ]
    }
   ],
   "source": [
    "def showAll():\n",
    "   #gets list of all Person objects\n",
    "   people_in_db = Get_Person_Details.get_db_details()\n",
    "   #calls view\n",
    "   return view_person(people_in_db)\n",
    "\n",
    "def start():\n",
    "    startView()\n",
    "    text = input(\"Enter String\")\n",
    "    if text == 'y':\n",
    "        return showAll()\n",
    "    else:\n",
    "        return endView()\n",
    "    \n",
    "if __name__ == \"__main__\":\n",
    "   #running controller function\n",
    "   start()"
   ]
  },
  {
   "cell_type": "code",
   "execution_count": null,
   "id": "004db43b",
   "metadata": {},
   "outputs": [],
   "source": []
  },
  {
   "cell_type": "code",
   "execution_count": null,
   "id": "3287c246",
   "metadata": {},
   "outputs": [],
   "source": []
  }
 ],
 "metadata": {
  "kernelspec": {
   "display_name": "Python 3 (ipykernel)",
   "language": "python",
   "name": "python3"
  },
  "language_info": {
   "codemirror_mode": {
    "name": "ipython",
    "version": 3
   },
   "file_extension": ".py",
   "mimetype": "text/x-python",
   "name": "python",
   "nbconvert_exporter": "python",
   "pygments_lexer": "ipython3",
   "version": "3.7.0"
  }
 },
 "nbformat": 4,
 "nbformat_minor": 5
}
